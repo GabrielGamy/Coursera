{
 "cells": [
  {
   "cell_type": "markdown",
   "id": "c40a7bbd",
   "metadata": {},
   "source": [
    "# Data Science Tools and Ecosystem"
   ]
  },
  {
   "cell_type": "markdown",
   "id": "8be68cf5",
   "metadata": {},
   "source": [
    "In this notebook, Data Science Tools and Ecosystem are summarized."
   ]
  },
  {
   "cell_type": "markdown",
   "id": "c46f620c",
   "metadata": {},
   "source": [
    "### Some of the popular languages that Data Scientists use are:\n",
    "\n",
    "1. Python\n",
    "2. R\n",
    "3. SQL"
   ]
  },
  {
   "cell_type": "markdown",
   "id": "5f827653",
   "metadata": {},
   "source": [
    "### 🧰 Common Data Science Libraries\n",
    "\n",
    "1. **Pandas** – For data manipulation and analysis (tables, CSVs, cleaning, merging). → 🐍 *Python*  \n",
    "2. **NumPy** – For fast mathematical and array operations. → 🐍 *Python*  \n",
    "3. **Matplotlib** – For creating line charts, bar charts, and visualizations. → 🐍 *Python*  \n",
    "4. **Seaborn** – For beautiful and easy-to-read statistical plots (built on Matplotlib). → 🐍 *Python*  \n",
    "5. **Scikit-learn** – For machine learning: regression, classification, clustering, etc. → 🐍 *Python*  \n",
    "6. **TensorFlow** – For deep learning and neural networks (developed by Google). → 🐍 *Python*  \n",
    "7. **PyTorch** – For deep learning and AI research (developed by Meta). → 🐍 *Python*  \n",
    "8. **Keras** – For building and training neural networks easily (runs on TensorFlow). → 🐍 *Python*  \n",
    "9. **Statsmodels** – For statistical modeling, regression analysis, and hypothesis testing. → 🐍 *Python*  \n",
    "10. **SciPy** – For scientific computing (integration, optimization, and linear algebra). → 🐍 *Python*  \n",
    "11. **PySpark** – For distributed computing and big data processing using Apache Spark. → 🐍 *Python*  \n",
    "12. **SparkR** – For working with Apache Spark from R. → 🐍 *R*  \n",
    "13. **XGBoost** – For high-performance gradient boosting in ML models. → 🐍 *Python* / 🐍 *R*  \n",
    "14. **LightGBM** – For fast and scalable gradient boosting (from Microsoft). → 🐍 *Python* / 🐍 *R*  \n",
    "15. **Plotly** – For interactive visualizations and dashboards. → 🐍 *Python* / 🐍 *R*  \n",
    "16. **Dash** – For building web-based interactive dashboards (built on Plotly + Flask). → 🐍 *Python*  \n",
    "17. **ggplot2** – For elegant and layered visualizations using the Grammar of Graphics. → 🐍 *R*  \n",
    "18. **dplyr** – For data manipulation and transformation (similar to Pandas). → 🐍 *R*  \n",
    "19. **tidyr** – For data cleaning and reshaping in tidy format. → 🐍 *R*  \n",
    "20. **shiny** – For creating interactive web applications for data analysis. → 🐍 *R*  \n",
    "21. **OpenCV** – For computer vision and image processing. → 🐍 *Python*  \n",
    "22. **NLTK** – For natural language processing (tokenization, stemming, text analysis). → 🐍 *Python*  \n",
    "23. **spaCy** – For advanced NLP and named entity recognition. → 🐍 *Python*  \n",
    "24. **BeautifulSoup** – For web scraping and extracting data from HTML pages. → 🐍 *Python*  \n",
    "25. **Requests** – For sending HTTP requests and working with APIs. → 🐍 *Python*  \n",
    "26. **Joblib** – For saving/loading machine learning models and parallel processing. → 🐍 *Python*  \n",
    "27. **Caret** – For training and evaluating machine learning models. → 🐍 *R*  \n",
    "28. **mlr3** – For modern machine learning workflows in R. → 🐍 *R*  \n",
    "29. **data.table** – For fast data manipulation and aggregation (like Pandas). → 🐍 *R*  \n",
    "30. **Altair** – For declarative and statistical data visualizations. → 🐍 *Python*\n"
   ]
  },
  {
   "cell_type": "markdown",
   "id": "9c3cdcd2",
   "metadata": {},
   "source": [
    "### 🧰 Data Science Tools\n",
    "\n",
    "| Data Science Tools       | Description / Use                                                                 |\n",
    "|---------------------------|-----------------------------------------------------------------------------------|\n",
    "| **Jupyter Notebook**      | Interactive environment for writing and running Python code, visualizations, and documentation. |\n",
    "| **RStudio**               | Integrated development environment (IDE) for R, used for statistical analysis and visualization. |\n",
    "| **Apache Zeppelin**       | Web-based notebook for interactive data analysis and visualization with multiple languages (Python, Scala, SQL, etc.). |\n",
    "| **Visual Studio Code**    | Lightweight open-source code editor with extensions for Python, R, and data science workflows. |\n",
    "| **Spyder**                | Scientific Python IDE designed for data analysis, debugging, and visualization.  |\n",
    "| **Google Colab**          | Cloud-based Jupyter Notebook that runs Python code on Google’s servers (no setup needed). |\n",
    "| **KNIME Analytics Platform** | Visual workflow tool for data mining, ETL (extract, transform, load), and machine learning. |\n",
    "| **Orange Data Mining**    | Open-source visual programming tool for data analysis and machine learning.       |\n",
    "| **IBM Watson Studio**     | Cloud-based collaborative platform for data science, AI model building, and deployment. |\n",
    "| **Apache Spark (PySpark)**| Distributed computing framework for large-scale data processing and analytics.    |\n"
   ]
  },
  {
   "cell_type": "markdown",
   "id": "7ad2f0c1",
   "metadata": {},
   "source": [
    "### Below are a few examples of evaluating arithmetic expressions in Python."
   ]
  },
  {
   "cell_type": "code",
   "execution_count": 18,
   "id": "0711984a",
   "metadata": {},
   "outputs": [
    {
     "data": {
      "text/plain": [
       "17"
      ]
     },
     "execution_count": 18,
     "metadata": {},
     "output_type": "execute_result"
    }
   ],
   "source": [
    "(3*4)+5\n",
    "# This is a simple arithmetic expression to multiply then add integers"
   ]
  },
  {
   "cell_type": "code",
   "execution_count": 19,
   "id": "f8d13015",
   "metadata": {},
   "outputs": [
    {
     "data": {
      "text/plain": [
       "3.3333333333333335"
      ]
     },
     "execution_count": 19,
     "metadata": {},
     "output_type": "execute_result"
    }
   ],
   "source": [
    "# This will convert 200 minutes to hours by dividing by 60\n",
    "200 / 60"
   ]
  },
  {
   "cell_type": "markdown",
   "id": "f946c323",
   "metadata": {},
   "source": [
    "**Objectives:**\n",
    "\n",
    "- List popular languages for Data Science\n",
    "- Identify common data science libraries and tools\n",
    "- Demonstrate basic arithmetic operations in Python\n",
    "- Understand the use of Jupyter Notebooks for data analysis"
   ]
  },
  {
   "cell_type": "markdown",
   "id": "685e9b19",
   "metadata": {},
   "source": [
    "# Author\n",
    "Gabriel Gamy"
   ]
  }
 ],
 "metadata": {
  "kernelspec": {
   "display_name": ".venv",
   "language": "python",
   "name": "python3"
  },
  "language_info": {
   "codemirror_mode": {
    "name": "ipython",
    "version": 3
   },
   "file_extension": ".py",
   "mimetype": "text/x-python",
   "name": "python",
   "nbconvert_exporter": "python",
   "pygments_lexer": "ipython3",
   "version": "3.13.3"
  }
 },
 "nbformat": 4,
 "nbformat_minor": 5
}
